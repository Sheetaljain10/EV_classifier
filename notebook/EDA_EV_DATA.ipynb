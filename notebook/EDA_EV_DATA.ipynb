{
 "cells": [
  {
   "cell_type": "markdown",
   "metadata": {},
   "source": [
    "EV SELECTOR"
   ]
  },
  {
   "cell_type": "markdown",
   "metadata": {},
   "source": [
    "1) PROBLEM STATEMENT\n",
    "\n",
    "* This project understands how the manufacturing factors can influence the selection of electric vehicles i.e. can electric vehicles have enough potential  to replace fuel vehicles."
   ]
  },
  {
   "cell_type": "markdown",
   "metadata": {},
   "source": [
    "2) DATA COLLECTION\n",
    "\n",
    "* Dataset source - https://catalog.data.gov/dataset/electric-vehicle-population-data\n",
    "* The data consists of 17 columns and 1,86,877 rows."
   ]
  },
  {
   "cell_type": "markdown",
   "metadata": {},
   "source": [
    "2.1 Import Data and required Packages\n",
    "Importing Pandas, Numpy , Matplotlib,seaborn and Warnings Library"
   ]
  },
  {
   "cell_type": "code",
   "execution_count": null,
   "metadata": {},
   "outputs": [],
   "source": []
  },
  {
   "cell_type": "markdown",
   "metadata": {},
   "source": [
    "Import CSV Data as as pandas Dataframae"
   ]
  },
  {
   "cell_type": "markdown",
   "metadata": {},
   "source": [
    "View the records"
   ]
  },
  {
   "cell_type": "code",
   "execution_count": null,
   "metadata": {},
   "outputs": [],
   "source": []
  },
  {
   "cell_type": "markdown",
   "metadata": {},
   "source": [
    "Shape of dataset"
   ]
  },
  {
   "cell_type": "code",
   "execution_count": null,
   "metadata": {},
   "outputs": [],
   "source": []
  },
  {
   "cell_type": "markdown",
   "metadata": {},
   "source": [
    "2.2 Dataset Information"
   ]
  },
  {
   "cell_type": "markdown",
   "metadata": {},
   "source": [
    "* VIN (1-10): Vehicle Identification Number (first 10 characters) - A unique code including a serial number, used by the automotive industry to identify individual motor vehicles.\n",
    "\n",
    "* County: The county where the vehicle is registered.\n",
    "\n",
    "* City: The city where the vehicle is registered.\n",
    "\n",
    "* State: The state where the vehicle is registered.\n",
    "\n",
    "* Postal Code: The postal code of the registration address.\n",
    "\n",
    "* Model Year: The year the vehicle model was manufactured.\n",
    "\n",
    "* Make: The manufacturer or brand of the vehicle (e.g., BMW, Tesla).\n",
    "\n",
    "* Model: The specific model of the vehicle (e.g., I3, MODEL S).\n",
    "\n",
    "* Electric Vehicle Type: The type of electric vehicle (e.g., Battery Electric Vehicle (BEV), Plug-in Hybrid Electric Vehicle (PHEV)).\n",
    "\n",
    "* Clean Alternative Fuel Vehicle (CAFV) Eligibility: Indicates whether the vehicle is eligible as a Clean Alternative Fuel Vehicle.\n",
    "\n",
    "* Electric Range: The range the vehicle can travel on electric power alone, measured in miles.\n",
    "\n",
    "* Base MSRP: The Manufacturer's Suggested Retail Price at the base level for the vehicle.\n",
    "\n",
    "* Legislative District: The legislative district where the vehicle is registered.\n",
    "\n",
    "* DOL Vehicle ID: A unique identifier assigned by the Department of Licensing.\n",
    "\n",
    "* Vehicle Location: The geographical coordinates (longitude, latitude) of the vehicle's location.\n",
    "\n",
    "* Electric Utility: The electric utility provider for the vehicle's registered location.\n",
    "\n",
    "* 2020 Census Tract: The 2020 census tract number for the vehicle's registered location.\n"
   ]
  },
  {
   "cell_type": "markdown",
   "metadata": {},
   "source": [
    "3) DATA PREPROCESSING [DATA CHECKS TO PERFORM]:\n",
    "* Check Missing values\n",
    "* Check Duplicates\n",
    "* Check data type\n",
    "* Check the number of unique values of each column\n",
    "* Check statistics of data set\n",
    "* Check various categories present in the different categorical column"
   ]
  },
  {
   "cell_type": "markdown",
   "metadata": {},
   "source": [
    "3.1 Check Missing values"
   ]
  },
  {
   "cell_type": "code",
   "execution_count": null,
   "metadata": {},
   "outputs": [],
   "source": []
  },
  {
   "cell_type": "markdown",
   "metadata": {},
   "source": [
    "There are no missing values in the data set"
   ]
  },
  {
   "cell_type": "code",
   "execution_count": null,
   "metadata": {},
   "outputs": [],
   "source": []
  },
  {
   "cell_type": "markdown",
   "metadata": {},
   "source": [
    "3.2 Check Duplicates"
   ]
  },
  {
   "cell_type": "markdown",
   "metadata": {},
   "source": []
  },
  {
   "cell_type": "markdown",
   "metadata": {},
   "source": [
    "There are no duplicates values in the data set"
   ]
  },
  {
   "cell_type": "code",
   "execution_count": null,
   "metadata": {},
   "outputs": [],
   "source": []
  },
  {
   "cell_type": "markdown",
   "metadata": {},
   "source": []
  },
  {
   "cell_type": "markdown",
   "metadata": {},
   "source": [
    "3.3 Check data types"
   ]
  },
  {
   "cell_type": "markdown",
   "metadata": {},
   "source": []
  },
  {
   "cell_type": "markdown",
   "metadata": {},
   "source": [
    "3.4 Checking the number of unique values of each column"
   ]
  },
  {
   "cell_type": "markdown",
   "metadata": {},
   "source": []
  },
  {
   "cell_type": "markdown",
   "metadata": {},
   "source": [
    "3.5 Check statistics of data set\n"
   ]
  },
  {
   "cell_type": "markdown",
   "metadata": {},
   "source": []
  },
  {
   "cell_type": "markdown",
   "metadata": {},
   "source": [
    "Insights:"
   ]
  },
  {
   "cell_type": "markdown",
   "metadata": {},
   "source": []
  },
  {
   "cell_type": "markdown",
   "metadata": {},
   "source": [
    "3.7 Exploring Data\n"
   ]
  },
  {
   "cell_type": "markdown",
   "metadata": {},
   "source": []
  },
  {
   "cell_type": "markdown",
   "metadata": {},
   "source": [
    "3.8 Adding columns for \"Total Score\" and \"Average\""
   ]
  },
  {
   "cell_type": "markdown",
   "metadata": {},
   "source": []
  },
  {
   "cell_type": "markdown",
   "metadata": {},
   "source": [
    "4. EXPLORING DATA ( Visualization )"
   ]
  },
  {
   "cell_type": "markdown",
   "metadata": {},
   "source": [
    "4.1 Visualize average score distribution to make some conclusion."
   ]
  },
  {
   "cell_type": "markdown",
   "metadata": {},
   "source": [
    "* Histogram\n",
    "* Kernel Distribution Function (KDE)"
   ]
  },
  {
   "cell_type": "markdown",
   "metadata": {},
   "source": [
    "4.1.1 Histogram & KDE"
   ]
  },
  {
   "cell_type": "markdown",
   "metadata": {},
   "source": []
  },
  {
   "cell_type": "markdown",
   "metadata": {},
   "source": [
    "4.2 Maximum score of students in all three subjects\n"
   ]
  },
  {
   "cell_type": "markdown",
   "metadata": {},
   "source": []
  },
  {
   "cell_type": "markdown",
   "metadata": {},
   "source": [
    "4.3 Multivariate analysis using pieplot\n"
   ]
  },
  {
   "cell_type": "markdown",
   "metadata": {},
   "source": [
    "4.4 Feature Wise Visualization\n"
   ]
  },
  {
   "cell_type": "markdown",
   "metadata": {},
   "source": []
  },
  {
   "cell_type": "markdown",
   "metadata": {},
   "source": [
    "5) CONCLUSION"
   ]
  },
  {
   "cell_type": "markdown",
   "metadata": {},
   "source": []
  }
 ],
 "metadata": {
  "kernelspec": {
   "display_name": "Python 3",
   "language": "python",
   "name": "python3"
  },
  "language_info": {
   "name": "python",
   "version": "3.9.0"
  }
 },
 "nbformat": 4,
 "nbformat_minor": 2
}
